{
 "cells": [
  {
   "cell_type": "code",
   "execution_count": 22,
   "metadata": {},
   "outputs": [],
   "source": [
    "import numpy as np\n",
    "import matplotlib.pyplot as plt"
   ]
  },
  {
   "cell_type": "code",
   "execution_count": 23,
   "metadata": {},
   "outputs": [],
   "source": [
    "S_NH3=227.829\n",
    "S_N2=216.866\n",
    "S_H2=155.606\n",
    "H_NH3=-52.618*1000\n",
    "T=700  #Kelvin\n",
    "pt=200 #bar\n",
    "R=8.314 #J/mol-K"
   ]
  },
  {
   "cell_type": "code",
   "execution_count": 24,
   "metadata": {},
   "outputs": [
    {
     "name": "stdout",
     "output_type": "stream",
     "text": [
      "-212098.30000000002 -151806.2 -108924.2\n"
     ]
    }
   ],
   "source": [
    "uNH3_est=H_NH3-T*S_NH3\n",
    "uN2_est=-T*S_N2\n",
    "uH2_est=-T*S_H2\n",
    "print(uNH3_est,uN2_est,uH2_est)"
   ]
  },
  {
   "cell_type": "code",
   "execution_count": 25,
   "metadata": {},
   "outputs": [],
   "source": [
    "x=np.arange(0.01,1,0.01)\n",
    "n_NH3=2-2*x\n",
    "n_N2=x\n",
    "n_H2=3*x\n",
    "nT=2+2*x\n",
    "\n",
    "X_NH3=n_NH3/nT\n",
    "X_N2=n_N2/nT\n",
    "X_H2=n_H2/nT\n"
   ]
  },
  {
   "cell_type": "code",
   "execution_count": 26,
   "metadata": {},
   "outputs": [
    {
     "name": "stdout",
     "output_type": "stream",
     "text": [
      "[0.54]\n"
     ]
    },
    {
     "data": {
      "image/png": "[encoded data removed]",
      "text/plain": [
       "<Figure size 432x288 with 1 Axes>"
      ]
     },
     "metadata": {
      "needs_background": "light"
     },
     "output_type": "display_data"
    }
   ],
   "source": [
    "uNH3= uNH3_est+R*T*np.log(X_NH3)+R*T*np.log(pt)\n",
    "uN2= uN2_est+R*T*np.log(X_N2)+R*T*np.log(pt)\n",
    "uH2= uH2_est+R*T*np.log(X_H2)+R*T*np.log(pt)\n",
    "uT=n_NH3*uNH3+n_N2*uN2+n_H2*uH2\n",
    "\n",
    "minimo=np.min(uT)\n",
    "n=np.where(minimo==uT)\n",
    "xeq=x[n]\n",
    "print(xeq)\n",
    "\n",
    "plt.plot(x,uT,color='black')\n",
    "plt.xlabel(r'$\\xi$  (mol)')\n",
    "plt.ylabel(r'$\\Delta G $ (J/mol)')\n",
    "plt.axvline(x=xeq,color='purple',linestyle='-.')\n",
    "plt.show()"
   ]
  },
  {
   "cell_type": "code",
   "execution_count": 30,
   "metadata": {},
   "outputs": [
    {
     "name": "stdout",
     "output_type": "stream",
     "text": [
      "[11437.25244632]\n"
     ]
    }
   ],
   "source": [
    "pNH3=(2-(2*xeq))/(2+(2*xeq))*pt\n",
    "pN2=(xeq)/(2+(2*xeq))*pt\n",
    "pH2=(3*xeq)/(2+(2*xeq))*pt\n",
    "kp=(pN2*pH2**3)/pNH3**2\n",
    "print(kp)"
   ]
  },
  {
   "cell_type": "code",
   "execution_count": 29,
   "metadata": {},
   "outputs": [
    {
     "name": "stdout",
     "output_type": "stream",
     "text": [
      "0.009353713441156025\n"
     ]
    }
   ],
   "source": [
    "G_NH3=27190\n",
    "kp=np.exp(-27190/(8.314*700))\n",
    "print(kp)"
   ]
  },
  {
   "cell_type": "code",
   "execution_count": null,
   "metadata": {},
   "outputs": [],
   "source": []
  }
 ],
 "metadata": {
  "kernelspec": {
   "display_name": "Python 3",
   "language": "python",
   "name": "python3"
  },
  "language_info": {
   "codemirror_mode": {
    "name": "ipython",
    "version": 3
   },
   "file_extension": ".py",
   "mimetype": "text/x-python",
   "name": "python",
   "nbconvert_exporter": "python",
   "pygments_lexer": "ipython3",
   "version": "3.6.6"
  }
 },
 "nbformat": 4,
 "nbformat_minor": 2
}
