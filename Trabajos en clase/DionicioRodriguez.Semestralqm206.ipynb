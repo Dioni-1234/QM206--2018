{
 "cells": [
  {
   "cell_type": "code",
   "execution_count": 146,
   "metadata": {},
   "outputs": [],
   "source": [
    "import numpy as np\n",
    "import matplotlib.pyplot as plt"
   ]
  },
  {
   "cell_type": "markdown",
   "metadata": {},
   "source": [
    "### Problema 1"
   ]
  },
  {
   "cell_type": "code",
   "execution_count": 124,
   "metadata": {},
   "outputs": [
    {
     "name": "stdout",
     "output_type": "stream",
     "text": [
      "[3 4 5 6 7] [ 8  9 10 11 12]\n",
      "1.4142135623730951 2.8284271247461903 4.242640687119285 5.656854249492381 0.0\n"
     ]
    }
   ],
   "source": [
    "x=np.arange(3,8,1)\n",
    "y=np.arange(8,13,1)\n",
    "print(x,y)\n",
    "d1=sqrt(((x[0]-x[1])**2)+(y[0]-y[1])**2)\n",
    "d2=sqrt(((x[0]-x[2])**2)+(y[0]-y[2])**2)\n",
    "d3=sqrt(((x[0]-x[3])**2)+(y[0]-y[3])**2)\n",
    "d4=sqrt(((x[0]-x[4])**2)+(y[0]-y[4])**2)\n",
    "d5=sqrt(((x[0]-x[0])**2)+(y[0]-y[0])**2)\n",
    "print(d1,d2,d3,d4,d5)"
   ]
  },
  {
   "cell_type": "code",
   "execution_count": 125,
   "metadata": {},
   "outputs": [
    {
     "data": {
      "text/plain": [
       "1.4142135623730951"
      ]
     },
     "execution_count": 125,
     "metadata": {},
     "output_type": "execute_result"
    }
   ],
   "source": [
    "np.min(d1) #Distancia más corta."
   ]
  },
  {
   "cell_type": "markdown",
   "metadata": {},
   "source": [
    "### Problema 2"
   ]
  },
  {
   "cell_type": "code",
   "execution_count": 126,
   "metadata": {},
   "outputs": [],
   "source": [
    "def potencia(base, exp):\n",
    "    ans=base**exp\n",
    "    \n",
    "    return(ans)"
   ]
  },
  {
   "cell_type": "code",
   "execution_count": 127,
   "metadata": {},
   "outputs": [
    {
     "data": {
      "text/plain": [
       "array([         1,          2,          4,          8,         16,\n",
       "               32,         64,        128,        256,        512,\n",
       "             1024,       2048,       4096,       8192,      16384,\n",
       "            32768,      65536,     131072,     262144,     524288,\n",
       "          1048576,    2097152,    4194304,    8388608,   16777216,\n",
       "         33554432,   67108864,  134217728,  268435456,  536870912,\n",
       "       1073741824])"
      ]
     },
     "execution_count": 127,
     "metadata": {},
     "output_type": "execute_result"
    }
   ],
   "source": [
    "base=2\n",
    "exp=np.arange(0,31,1)\n",
    "\n",
    "potencia(base, exp)"
   ]
  },
  {
   "cell_type": "markdown",
   "metadata": {},
   "source": [
    "### Problema 3"
   ]
  },
  {
   "cell_type": "code",
   "execution_count": 128,
   "metadata": {},
   "outputs": [
    {
     "name": "stdout",
     "output_type": "stream",
     "text": [
      "55\n"
     ]
    }
   ],
   "source": [
    "n =0\n",
    "m=10\n",
    "suma=[0,1,2,3,4,5,6,7,8,9,10]\n",
    "sumatoria=sum(suma)\n",
    "print(sumatoria)"
   ]
  },
  {
   "cell_type": "markdown",
   "metadata": {},
   "source": [
    "### Problema 4"
   ]
  },
  {
   "cell_type": "code",
   "execution_count": 141,
   "metadata": {},
   "outputs": [],
   "source": [
    "a=2\n",
    "b=9\n",
    "c=14\n",
    "x=np.arange(-10,10,0.01)\n",
    "y=(a*x**2)+(b*x)+c"
   ]
  },
  {
   "cell_type": "code",
   "execution_count": 145,
   "metadata": {},
   "outputs": [
    {
     "data": {
      "image/png": "[encoded data removed]",
      "text/plain": [
       "<Figure size 432x288 with 1 Axes>"
      ]
     },
     "metadata": {
      "needs_background": "light"
     },
     "output_type": "display_data"
    }
   ],
   "source": [
    "plt.plot(x,y,color='cyan')\n",
    "plt.xlabel('x')\n",
    "plt.ylabel('y')\n",
    "plt.title('y vs x')\n",
    "plt.text(10,299,'máximo')\n",
    "plt.text(-2.5,3,'minimo')\n",
    "plt.show()"
   ]
  },
  {
   "cell_type": "code",
   "execution_count": 143,
   "metadata": {},
   "outputs": [
    {
     "data": {
      "text/plain": [
       "3.8750000000000018"
      ]
     },
     "execution_count": 143,
     "metadata": {},
     "output_type": "execute_result"
    }
   ],
   "source": [
    "#Minimo de la funcion\n",
    "np.min(y)"
   ]
  },
  {
   "cell_type": "code",
   "execution_count": 144,
   "metadata": {},
   "outputs": [
    {
     "data": {
      "text/plain": [
       "303.51019999997925"
      ]
     },
     "execution_count": 144,
     "metadata": {},
     "output_type": "execute_result"
    }
   ],
   "source": [
    "#Maximo de la funcion\n",
    "np.max(y)"
   ]
  },
  {
   "cell_type": "code",
   "execution_count": null,
   "metadata": {},
   "outputs": [],
   "source": []
  }
 ],
 "metadata": {
  "kernelspec": {
   "display_name": "Python 3",
   "language": "python",
   "name": "python3"
  },
  "language_info": {
   "codemirror_mode": {
    "name": "ipython",
    "version": 3
   },
   "file_extension": ".py",
   "mimetype": "text/x-python",
   "name": "python",
   "nbconvert_exporter": "python",
   "pygments_lexer": "ipython3",
   "version": "3.6.6"
  }
 },
 "nbformat": 4,
 "nbformat_minor": 2
}
