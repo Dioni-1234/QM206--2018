{
 "cells": [
  {
   "cell_type": "code",
   "execution_count": 11,
   "metadata": {},
   "outputs": [
    {
     "name": "stdout",
     "output_type": "stream",
     "text": [
      "[1, 1, 2, 3, 5, 8, 13, 21, 34, 55, 89, 144, 233, 377, 610, 987, 1597, 2584, 4181, 6765, 10946, 17711, 28657, 46368, 75025, 121393, 196418, 317811, 514229, 832040, 1346269, 2178309]\n"
     ]
    }
   ],
   "source": [
    "n=30\n",
    "a=1\n",
    "b=1\n",
    "Fibonacci=[]\n",
    "#print(a)\n",
    "#print(b)\n",
    "Fibonacci.append(a)\n",
    "Fibonacci.append(b)\n",
    "for i in range(n):\n",
    "    c=a+b\n",
    "    #print(c)\n",
    "    Fibonacci.append(c)\n",
    "    a=b\n",
    "    b=c\n",
    "print(Fibonacci)"
   ]
  },
  {
   "cell_type": "code",
   "execution_count": 13,
   "metadata": {},
   "outputs": [
    {
     "name": "stdout",
     "output_type": "stream",
     "text": [
      "1.0\n",
      "1.5\n",
      "1.75\n",
      "1.875\n",
      "1.9375\n"
     ]
    }
   ],
   "source": [
    "n=5\n",
    "suma=0\n",
    "denom=1\n",
    "for i in range(n):\n",
    "    suma=suma+1/denom\n",
    "    print(suma)\n",
    "    denom=denom*2"
   ]
  },
  {
   "cell_type": "code",
   "execution_count": 18,
   "metadata": {},
   "outputs": [
    {
     "name": "stdout",
     "output_type": "stream",
     "text": [
      "2.0\n",
      "2.5\n",
      "2.6666666666666665\n",
      "2.708333333333333\n",
      "2.7166666666666663\n",
      "2.7180555555555554\n",
      "2.7182539682539684\n",
      "2.71827876984127\n",
      "2.7182815255731922\n",
      "2.7182818011463845\n",
      "2.718281826198493\n",
      "2.7182818282861687\n",
      "2.7182818284467594\n",
      "2.71828182845823\n",
      "2.718281828458995\n",
      "2.718281828459043\n",
      "2.7182818284590455\n",
      "2.7182818284590455\n",
      "2.7182818284590455\n",
      "2.7182818284590455\n"
     ]
    }
   ],
   "source": [
    "n=20\n",
    "factorial=1\n",
    "suma=1\n",
    "for i in range (n):\n",
    "    num=i+1\n",
    "    factorial=factorial*num\n",
    "    suma=suma+1/factorial\n",
    "    print(suma)"
   ]
  },
  {
   "cell_type": "code",
   "execution_count": 24,
   "metadata": {},
   "outputs": [
    {
     "name": "stdout",
     "output_type": "stream",
     "text": [
      "1.0\n",
      "1.25\n",
      "1.3611111111111112\n",
      "1.4236111111111112\n",
      "1.4636111111111112\n",
      "1.4913888888888889\n",
      "1.511797052154195\n",
      "1.527422052154195\n",
      "1.5397677311665408\n",
      "1.5497677311665408\n"
     ]
    }
   ],
   "source": [
    "n=10\n",
    "\n",
    "suma=0\n",
    "for i in range (n):\n",
    "    num=i+1\n",
    "    cuad=num*num\n",
    "    suma=suma+1/cuad\n",
    "    print(suma)"
   ]
  },
  {
   "cell_type": "code",
   "execution_count": 22,
   "metadata": {},
   "outputs": [
    {
     "data": {
      "text/plain": [
       "1.6449312880166664"
      ]
     },
     "execution_count": 22,
     "metadata": {},
     "output_type": "execute_result"
    }
   ],
   "source": [
    "3.14159*3.14159/6"
   ]
  },
  {
   "cell_type": "code",
   "execution_count": 29,
   "metadata": {},
   "outputs": [
    {
     "name": "stdout",
     "output_type": "stream",
     "text": [
      "F\n",
      "e\n",
      "2\n",
      "(\n",
      "S\n",
      "O\n",
      ")\n",
      "3\n",
      "['Fe', 'S', 'O']\n"
     ]
    }
   ],
   "source": [
    "formula=\"Fe2(SO)3\"\n",
    "n=len(formula)\n",
    "elem=[]\n",
    "for i in range(n):\n",
    "    print(formula[i])\n",
    "    if formula [i]>=\"A\" and formula [i]<=\"Z\":\n",
    "        elem.append(formula[i])\n",
    "    if formula [i]>=\"a\" and formula [i]<=\"z\":\n",
    "        s=elem.pop()\n",
    "        s=s+formula[i]\n",
    "        elem.append(s)\n",
    "print(elem)"
   ]
  },
  {
   "cell_type": "code",
   "execution_count": null,
   "metadata": {},
   "outputs": [],
   "source": []
  }
 ],
 "metadata": {
  "kernelspec": {
   "display_name": "Python 3",
   "language": "python",
   "name": "python3"
  },
  "language_info": {
   "codemirror_mode": {
    "name": "ipython",
    "version": 3
   },
   "file_extension": ".py",
   "mimetype": "text/x-python",
   "name": "python",
   "nbconvert_exporter": "python",
   "pygments_lexer": "ipython3",
   "version": "3.6.5"
  }
 },
 "nbformat": 4,
 "nbformat_minor": 2
}
